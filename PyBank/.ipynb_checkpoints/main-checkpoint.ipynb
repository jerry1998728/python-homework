{
 "cells": [
  {
   "cell_type": "code",
   "execution_count": 219,
   "metadata": {},
   "outputs": [],
   "source": [
    "#import the pathlib and csv library \n",
    "from pathlib import Path\n",
    "import os\n",
    "import csv\n",
    "#set the file path\n",
    "budget_data_csv = Path('/Users/Jerry/Desktop/ucb-sfc-fin-pt-08-2020-u-c/02-Homework/02-Python/Instructions/PyBank/Resources/budget_data.csv')\n"
   ]
  },
  {
   "cell_type": "code",
   "execution_count": 267,
   "metadata": {},
   "outputs": [
    {
     "name": "stdout",
     "output_type": "stream",
     "text": [
      "['Date', 'Profit/Losses']\n"
     ]
    }
   ],
   "source": [
    "#initialize list of records\n",
    "month =[]\n",
    "PL = []\n",
    "change_PL = []\n",
    "\n",
    "#Open the csv file as an object\n",
    "with open(budget_data_csv, 'r') as csv_file:\n",
    "    # Pass in the csv file to the csv.reader() function (with ',' as the delmiter/separator) and return the csvreader object\n",
    "    csv_reader = csv.reader(csv_file, delimiter = ',')\n",
    "    next(csv_reader)\n",
    "    print(f'{csv_header}')\n",
    "\n",
    "    for row in csv_reader:\n",
    "        month.append(row[0])\n",
    "        PL.append(int(row[1]))   \n",
    "\n",
    "# Calculate total_months\n",
    "total_months = len(month)\n",
    "\n",
    "# Calculate change in PL\n",
    "for x in range(1, len(PL)):\n",
    "    change_PL.append((int(PL[x])-int(PL[x-1])))\n",
    "    # Calculate rounded average of PL \n",
    "    PL_average = round((sum(change_PL)/len(change_PL)),2)\n",
    "    # Calculate Maximum and Minimum changes\n",
    "    max_change = max(change_PL)\n",
    "    min_change = min(change_PL)\n",
    "# Set an output text file path\n",
    "output = open('analysis.text','w')\n",
    "output.write('Financial Analysis\\n')\n",
    "output.write(f'--------------------- \\n')\n",
    "output.write(f'Total Months:{total_months}\\n')\n",
    "output.write(f'Total: ${sum(PL)}\\n')\n",
    "output.write(f'Average Change: ${PL_average}\\n')\n",
    "output.write(f'Greatest Increase in Profits: {month[change_PL.index(max(change_PL))+1]}(${max_change})\\n')\n",
    "output.write(f'Greatest Decrease in Profits: {month[change_PL.index(min(change_PL))+1]}(${min_change})\\n')\n",
    "output.close()\n",
    "\n"
   ]
  },
  {
   "cell_type": "code",
   "execution_count": null,
   "metadata": {},
   "outputs": [],
   "source": []
  },
  {
   "cell_type": "code",
   "execution_count": null,
   "metadata": {},
   "outputs": [],
   "source": []
  },
  {
   "cell_type": "code",
   "execution_count": null,
   "metadata": {},
   "outputs": [],
   "source": []
  }
 ],
 "metadata": {
  "kernelspec": {
   "display_name": "Python 3",
   "language": "python",
   "name": "python3"
  },
  "language_info": {
   "codemirror_mode": {
    "name": "ipython",
    "version": 3
   },
   "file_extension": ".py",
   "mimetype": "text/x-python",
   "name": "python",
   "nbconvert_exporter": "python",
   "pygments_lexer": "ipython3",
   "version": "3.8.3"
  }
 },
 "nbformat": 4,
 "nbformat_minor": 4
}
